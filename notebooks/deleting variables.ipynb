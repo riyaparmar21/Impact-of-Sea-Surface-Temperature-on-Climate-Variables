{
 "cells": [
  {
   "cell_type": "code",
   "execution_count": 7,
   "id": "0242ccea",
   "metadata": {},
   "outputs": [],
   "source": [
    "import os\n",
    "import xarray as xr"
   ]
  },
  {
   "cell_type": "code",
   "execution_count": 8,
   "id": "0203c759",
   "metadata": {},
   "outputs": [
    {
     "name": "stdout",
     "output_type": "stream",
     "text": [
      "Variables before deletion: ['y', 'x', 'Latitude', 'Longitude', 'SST_WKL', 'month', 'month_name']\n",
      "Warning: The following variables do not exist in the dataset: ['GeoY', 'GeoX', 'BINNING_COUNTER', 'SST_QFLAGS_WKL']\n",
      "None of the specified variables exist in the dataset. No changes made.\n",
      "Operation cancelled. No changes were made.\n"
     ]
    },
    {
     "ename": "NameError",
     "evalue": "name 'ds' is not defined",
     "output_type": "error",
     "traceback": [
      "\u001b[1;31m---------------------------------------------------------------------------\u001b[0m",
      "\u001b[1;31mNameError\u001b[0m                                 Traceback (most recent call last)",
      "\u001b[1;32m~\\AppData\\Local\\Temp\\ipykernel_10740\\3242200932.py\u001b[0m in \u001b[0;36m<module>\u001b[1;34m\u001b[0m\n\u001b[0;32m     75\u001b[0m         \u001b[0mprint\u001b[0m\u001b[1;33m(\u001b[0m\u001b[1;34m\"Operation cancelled. No changes were made.\"\u001b[0m\u001b[1;33m)\u001b[0m\u001b[1;33m\u001b[0m\u001b[1;33m\u001b[0m\u001b[0m\n\u001b[0;32m     76\u001b[0m \u001b[1;33m\u001b[0m\u001b[0m\n\u001b[1;32m---> 77\u001b[1;33m \u001b[0mprint\u001b[0m\u001b[1;33m(\u001b[0m\u001b[0mds\u001b[0m\u001b[1;33m.\u001b[0m\u001b[0mvariables\u001b[0m\u001b[1;33m)\u001b[0m\u001b[1;33m\u001b[0m\u001b[1;33m\u001b[0m\u001b[0m\n\u001b[0m",
      "\u001b[1;31mNameError\u001b[0m: name 'ds' is not defined"
     ]
    }
   ],
   "source": [
    "import os\n",
    "import xarray as xr\n",
    "from shutil import copyfile\n",
    "\n",
    "def remove_variables_from_netcdf(input_file, variables_to_remove, create_backup=True):\n",
    "    \"\"\"\n",
    "    Removes specified variables from a NetCDF file and saves changes to the same file.\n",
    "\n",
    "    Parameters:\n",
    "    -----------\n",
    "    input_file : str\n",
    "        Path to the NetCDF file to modify\n",
    "    variables_to_remove : list\n",
    "        List of variable names to remove from the NetCDF file\n",
    "    create_backup : bool, optional\n",
    "        Whether to create a backup of the original file before modifying (default: True)\n",
    "    \"\"\"\n",
    "    # Create backup if requested\n",
    "    if create_backup:\n",
    "        backup_file = input_file + \".backup\"\n",
    "        if not os.path.exists(backup_file):\n",
    "            print(f\"Creating backup at {backup_file}\")\n",
    "            copyfile(input_file, backup_file)\n",
    "\n",
    "    # Load the NetCDF file using xarray\n",
    "    ds = xr.open_dataset(input_file)\n",
    "\n",
    "    # Print variables before deletion\n",
    "    print(f\"Variables before deletion: {list(ds.variables)}\")\n",
    "\n",
    "    # Check which variables from the list exist in the dataset\n",
    "    existing_vars = [var for var in variables_to_remove if var in ds.variables]\n",
    "    non_existing_vars = [var for var in variables_to_remove if var not in ds.variables]\n",
    "\n",
    "    if non_existing_vars:\n",
    "        print(f\"Warning: The following variables do not exist in the dataset: {non_existing_vars}\")\n",
    "\n",
    "    if not existing_vars:\n",
    "        print(\"None of the specified variables exist in the dataset. No changes made.\")\n",
    "        ds.close()\n",
    "        return False\n",
    "\n",
    "    # Create a new dataset without the specified variables\n",
    "    ds_new = ds.drop_vars(existing_vars)\n",
    "\n",
    "    # Load dataset into memory before closing original file\n",
    "    ds_new.load()\n",
    "\n",
    "    # Close the original dataset\n",
    "    ds.close()\n",
    "\n",
    "    # Save to a temporary file\n",
    "    temp_file = input_file + \".temp\"\n",
    "    print(f\"Saving modified dataset...\")\n",
    "    ds_new.to_netcdf(temp_file)\n",
    "    ds_new.close()  # Close new dataset to release any locks\n",
    "\n",
    "    # Replace the original file\n",
    "    os.remove(input_file)\n",
    "    os.rename(temp_file, input_file)\n",
    "   \n",
    "    print(f\"Successfully updated {input_file}\")\n",
    "    return True\n",
    "\n",
    "# Usage example\n",
    "if __name__ == \"__main__\":\n",
    "    input_file = (r\"C:\\Users\\Admin\\RIYA PROJECT\\DATASETS\\mosdac_konkan_sst.nc\")\n",
    "    variables_to_remove = [\"GeoY\", \"GeoX\", \"BINNING_COUNTER\", \"SST_QFLAGS_WKL\"]\n",
    "   \n",
    "    success = remove_variables_from_netcdf(input_file, variables_to_remove)\n",
    "\n",
    "    if success:\n",
    "        print(\"Variables were successfully removed from the file.\")\n",
    "    else:\n",
    "        print(\"Operation cancelled. No changes were made.\")\n",
    "\n",
    "print(ds.variables)"
   ]
  },
  {
   "cell_type": "code",
   "execution_count": 9,
   "id": "0e4356ce",
   "metadata": {},
   "outputs": [
    {
     "ename": "NameError",
     "evalue": "name 'ds' is not defined",
     "output_type": "error",
     "traceback": [
      "\u001b[1;31m---------------------------------------------------------------------------\u001b[0m",
      "\u001b[1;31mNameError\u001b[0m                                 Traceback (most recent call last)",
      "\u001b[1;32m~\\AppData\\Local\\Temp\\ipykernel_10740\\2369097233.py\u001b[0m in \u001b[0;36m<module>\u001b[1;34m\u001b[0m\n\u001b[1;32m----> 1\u001b[1;33m \u001b[0mds\u001b[0m\u001b[1;33m\u001b[0m\u001b[1;33m\u001b[0m\u001b[0m\n\u001b[0m",
      "\u001b[1;31mNameError\u001b[0m: name 'ds' is not defined"
     ]
    }
   ],
   "source": [
    "ds"
   ]
  },
  {
   "cell_type": "code",
   "execution_count": null,
   "id": "b8c07397",
   "metadata": {},
   "outputs": [],
   "source": []
  }
 ],
 "metadata": {
  "kernelspec": {
   "display_name": "Python 3 (ipykernel)",
   "language": "python",
   "name": "python3"
  },
  "language_info": {
   "codemirror_mode": {
    "name": "ipython",
    "version": 3
   },
   "file_extension": ".py",
   "mimetype": "text/x-python",
   "name": "python",
   "nbconvert_exporter": "python",
   "pygments_lexer": "ipython3",
   "version": "3.9.13"
  }
 },
 "nbformat": 4,
 "nbformat_minor": 5
}
